{
 "cells": [
  {
   "cell_type": "markdown",
   "id": "17dcbc96",
   "metadata": {},
   "source": [
    "# Leetcode\n"
   ]
  },
  {
   "cell_type": "code",
   "execution_count": 18,
   "id": "72da99f3",
   "metadata": {},
   "outputs": [
    {
     "name": "stdout",
     "output_type": "stream",
     "text": [
      "Numbers:2 7 11 15\n",
      "Target:9\n"
     ]
    },
    {
     "ename": "SystemExit",
     "evalue": "",
     "output_type": "error",
     "traceback": [
      "An exception has occurred, use %tb to see the full traceback.\n",
      "\u001b[0;31mSystemExit\u001b[0m\n"
     ]
    },
    {
     "name": "stderr",
     "output_type": "stream",
     "text": [
      "/home/shnartho/.local/lib/python3.8/site-packages/IPython/core/interactiveshell.py:3369: UserWarning: To exit: use 'exit', 'quit', or Ctrl-D.\n",
      "  warn(\"To exit: use 'exit', 'quit', or Ctrl-D.\", stacklevel=1)\n"
     ]
    }
   ],
   "source": [
    "import sys\n",
    "def check(target, list):\n",
    "    answer = []\n",
    "    for i in range(len(list)):\n",
    "        for j in range(i+1, len(list)):\n",
    "            if list[i]+list[j] == target:\n",
    "                answer.extend([i, j])\n",
    "                sys.exit()\n",
    "    return answer\n",
    "nums = map(int,input(\"Numbers:\").split())\n",
    "for i in nums:\n",
    "    list.append(i)\n",
    "target = int(input(\"Target:\"))\n",
    "print(check(target, list))"
   ]
  },
  {
   "cell_type": "code",
   "execution_count": null,
   "id": "d6cd9560",
   "metadata": {},
   "outputs": [],
   "source": []
  }
 ],
 "metadata": {
  "kernelspec": {
   "display_name": "Python 3 (ipykernel)",
   "language": "python",
   "name": "python3"
  },
  "language_info": {
   "codemirror_mode": {
    "name": "ipython",
    "version": 3
   },
   "file_extension": ".py",
   "mimetype": "text/x-python",
   "name": "python",
   "nbconvert_exporter": "python",
   "pygments_lexer": "ipython3",
   "version": "3.8.10"
  }
 },
 "nbformat": 4,
 "nbformat_minor": 5
}
