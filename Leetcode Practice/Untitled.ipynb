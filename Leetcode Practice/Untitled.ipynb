{
 "cells": [
  {
   "cell_type": "markdown",
   "id": "66a74f70",
   "metadata": {},
   "source": [
    "# Leetcode\n"
   ]
  },
  {
   "cell_type": "code",
   "execution_count": 19,
   "id": "ed7d2f3d",
   "metadata": {},
   "outputs": [
    {
     "name": "stdout",
     "output_type": "stream",
     "text": [
      "Numbers:2 7 11 15\n",
      "Target:9\n",
      "[0, 0, 0, 1, 1, 2, 2, 3, 4, 6, 6, 6, 6, 6, 6, 6, 6, 7, 7, 7, 7, 7, 7, 7, 10, 10, 10, 10, 10, 10, 10, 11, 11, 11, 11, 11, 11, 14, 14, 14, 14, 14, 14, 15, 15, 15, 15, 15, 18, 18, 18, 18, 18, 19, 19, 19, 19, 22, 22, 22, 22, 23, 23, 23, 26, 26, 26, 27, 27, 30, 30, 31, 34]\n"
     ]
    }
   ],
   "source": [
    "import sys\n",
    "def check(target, list):\n",
    "    answer = []\n",
    "    for i in range(len(list)):\n",
    "        for j in range(i+1, len(list)):\n",
    "            if list[i]+list[j] == target:\n",
    "                answer.append(i)\n",
    "    return answer\n",
    "nums = map(int,input(\"Numbers:\").split())\n",
    "for i in nums:\n",
    "    list.append(i)\n",
    "target = int(input(\"Target:\"))\n",
    "print(check(target, list))"
   ]
  },
  {
   "cell_type": "code",
   "execution_count": 21,
   "id": "ddb97892",
   "metadata": {},
   "outputs": [
    {
     "ename": "NameError",
     "evalue": "name 'List' is not defined",
     "output_type": "error",
     "traceback": [
      "\u001b[0;31m---------------------------------------------------------------------------\u001b[0m",
      "\u001b[0;31mNameError\u001b[0m                                 Traceback (most recent call last)",
      "Input \u001b[0;32mIn [21]\u001b[0m, in \u001b[0;36m<cell line: 1>\u001b[0;34m()\u001b[0m\n\u001b[0;32m----> 1\u001b[0m \u001b[38;5;28;01mclass\u001b[39;00m \u001b[38;5;21;01mSolution\u001b[39;00m:\n\u001b[1;32m      2\u001b[0m     \u001b[38;5;28;01mdef\u001b[39;00m \u001b[38;5;21mtwoSum\u001b[39m(\u001b[38;5;28mself\u001b[39m, nums: List[\u001b[38;5;28mint\u001b[39m], target: \u001b[38;5;28mint\u001b[39m) \u001b[38;5;241m-\u001b[39m\u001b[38;5;241m>\u001b[39m List[\u001b[38;5;28mint\u001b[39m]:\n\u001b[1;32m      3\u001b[0m        seen \u001b[38;5;241m=\u001b[39m {}\n",
      "Input \u001b[0;32mIn [21]\u001b[0m, in \u001b[0;36mSolution\u001b[0;34m()\u001b[0m\n\u001b[1;32m      1\u001b[0m \u001b[38;5;28;01mclass\u001b[39;00m \u001b[38;5;21;01mSolution\u001b[39;00m:\n\u001b[0;32m----> 2\u001b[0m     \u001b[38;5;28;01mdef\u001b[39;00m \u001b[38;5;21mtwoSum\u001b[39m(\u001b[38;5;28mself\u001b[39m, nums: \u001b[43mList\u001b[49m[\u001b[38;5;28mint\u001b[39m], target: \u001b[38;5;28mint\u001b[39m) \u001b[38;5;241m-\u001b[39m\u001b[38;5;241m>\u001b[39m List[\u001b[38;5;28mint\u001b[39m]:\n\u001b[1;32m      3\u001b[0m        seen \u001b[38;5;241m=\u001b[39m {}\n\u001b[1;32m      4\u001b[0m        \u001b[38;5;28;01mfor\u001b[39;00m i, value \u001b[38;5;129;01min\u001b[39;00m \u001b[38;5;28menumerate\u001b[39m(nums):\n",
      "\u001b[0;31mNameError\u001b[0m: name 'List' is not defined"
     ]
    }
   ],
   "source": [
    "class Solution:\n",
    "    def twoSum(self, nums: List[int], target: int) -> List[int]:\n",
    "       seen = {}\n",
    "       for i, value in enumerate(nums):\n",
    "           remaining = target - nums[i]\n",
    "           \n",
    "           if remaining in seen:\n",
    "               return [ seen[remaining],i]\n",
    "            \n",
    "           seen[value] = i  "
   ]
  },
  {
   "cell_type": "code",
   "execution_count": 32,
   "id": "f92df8d8",
   "metadata": {},
   "outputs": [
    {
     "name": "stdout",
     "output_type": "stream",
     "text": [
      "d\n"
     ]
    }
   ],
   "source": [
    "# finding last word/number/destion\n",
    "list = [ ['c','d'], ['a','b'] ,['b','c']]\n",
    "newlist = []\n",
    "for i in range(len(list)):\n",
    "    for j in range(len(list)):\n",
    "        if i == j:\n",
    "             continue\n",
    "        else:\n",
    "            if list[i][1] != list[j][0]:\n",
    "                newlist.append(list[i][1])\n",
    "print(max(newlist))\n",
    "                \n"
   ]
  },
  {
   "cell_type": "code",
   "execution_count": 47,
   "id": "73b3443b",
   "metadata": {},
   "outputs": [
    {
     "name": "stdout",
     "output_type": "stream",
     "text": [
      "d\n"
     ]
    }
   ],
   "source": [
    "# finding destination\n",
    "list = [ ['c','d'], ['a','b'] ,['b','c']]\n",
    "city_a = []\n",
    "city_b = []\n",
    "for path in list:\n",
    "    a, b = path\n",
    "    city_a.append(a)\n",
    "    city_b.append(b)\n",
    "for i in range(len(list)):\n",
    "    if city_b[i] in city_a:\n",
    "        continue\n",
    "    else:\n",
    "        print(city_b[i])\n"
   ]
  },
  {
   "cell_type": "code",
   "execution_count": null,
   "id": "65cb8471",
   "metadata": {},
   "outputs": [],
   "source": [
    "# finding destination using hashmap\n"
   ]
  }
 ],
 "metadata": {
  "kernelspec": {
   "display_name": "Python 3 (ipykernel)",
   "language": "python",
   "name": "python3"
  },
  "language_info": {
   "codemirror_mode": {
    "name": "ipython",
    "version": 3
   },
   "file_extension": ".py",
   "mimetype": "text/x-python",
   "name": "python",
   "nbconvert_exporter": "python",
   "pygments_lexer": "ipython3",
   "version": "3.8.10"
  }
 },
 "nbformat": 4,
 "nbformat_minor": 5
}
