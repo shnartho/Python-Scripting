{
 "cells": [
  {
   "cell_type": "code",
   "execution_count": 1,
   "id": "b00de00a",
   "metadata": {},
   "outputs": [
    {
     "name": "stdout",
     "output_type": "stream",
     "text": [
      "3\n",
      "\"first=abc; second=def; third=ghi\"\n",
      "\"sessionid=12344556; username=john; loggedin=True\"\n",
      "\"sessionid= 12344556; username= john; loggedin= True;\"\n",
      "['False', 'False', 'False']\n"
     ]
    }
   ],
   "source": [
    "import re\n",
    "\n",
    "regularExpression = \"^\\w+=[^;]*(?:;\\s*\\w+=[^;]*)*$\"\n",
    "pattern = re.compile(regularExpression)\n",
    "\n",
    "query = int(input())\n",
    "result = ['False'] * query\n",
    "\n",
    "for i in range(query):\n",
    "    someString = input()\n",
    "    \n",
    "    if pattern.match(someString):\n",
    "        result[i] = 'True'\n",
    "print(result)\n",
    "# with open(environ['OUTPUT_PATH'], 'w') as fileOut:\n",
    "#     fileOut.write('\\n'.join(result))"
   ]
  },
  {
   "cell_type": "code",
   "execution_count": null,
   "id": "87e627fd",
   "metadata": {},
   "outputs": [],
   "source": []
  }
 ],
 "metadata": {
  "kernelspec": {
   "display_name": "Python 3 (ipykernel)",
   "language": "python",
   "name": "python3"
  },
  "language_info": {
   "codemirror_mode": {
    "name": "ipython",
    "version": 3
   },
   "file_extension": ".py",
   "mimetype": "text/x-python",
   "name": "python",
   "nbconvert_exporter": "python",
   "pygments_lexer": "ipython3",
   "version": "3.8.10"
  }
 },
 "nbformat": 4,
 "nbformat_minor": 5
}
