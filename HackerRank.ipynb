{
 "cells": [
  {
   "cell_type": "markdown",
   "id": "079a7735",
   "metadata": {},
   "source": [
    "# Hacker_Rank\n"
   ]
  },
  {
   "cell_type": "code",
   "execution_count": 1,
   "id": "b157d5d2",
   "metadata": {},
   "outputs": [
    {
     "name": "stdout",
     "output_type": "stream",
     "text": [
      "Hello, World!\n"
     ]
    }
   ],
   "source": [
    "# Say \"Hello, World!\" With Python\n",
    "\n",
    "print(\"Hello, World!\")"
   ]
  },
  {
   "cell_type": "code",
   "execution_count": 2,
   "id": "5a344f1e",
   "metadata": {},
   "outputs": [
    {
     "name": "stdout",
     "output_type": "stream",
     "text": [
      "11\n",
      "Weird\n"
     ]
    }
   ],
   "source": [
    "# Task\n",
    "# Given an integer, , perform the following conditional actions:\n",
    "\n",
    "# If n is odd, print Weird\n",
    "# If n is even and in the inclusive range of 2 to 5, print Not Weird\n",
    "# If n is even and in the inclusive range of 6 to 20, print Weird\n",
    "# If n is even and greater than 20, print Not Weird\n",
    "\n",
    "def weird(n):\n",
    "    if n % 2 == 1 or 6<= n <=20:\n",
    "        print(\"Weird\")\n",
    "    else:\n",
    "        print(\"Not Weird\")\n",
    "    \n",
    "    \n",
    "weird(int(input()))    "
   ]
  },
  {
   "cell_type": "code",
   "execution_count": 3,
   "id": "789d7577",
   "metadata": {},
   "outputs": [
    {
     "name": "stdout",
     "output_type": "stream",
     "text": [
      "5\n",
      "4\n",
      "9\n",
      "1\n",
      "20\n"
     ]
    }
   ],
   "source": [
    "# Task\n",
    "# The provided code stub reads two integers from STDIN,  and . Add code to print three lines where:\n",
    "\n",
    "# The first line contains the sum of the two numbers.\n",
    "# The second line contains the difference of the two numbers (first - second).\n",
    "# The third line contains the product of the two numbers.\n",
    "\n",
    "n1, n2 = int(input()), int(input())\n",
    "print((n1+n2), (n1-n2), (n1*n2), sep='\\n')"
   ]
  },
  {
   "cell_type": "code",
   "execution_count": 4,
   "id": "1f1b6cd0",
   "metadata": {},
   "outputs": [
    {
     "name": "stdout",
     "output_type": "stream",
     "text": [
      "3\n",
      "5\n",
      "0\n",
      "0.6\n"
     ]
    }
   ],
   "source": [
    "# Task\n",
    "# The provided code stub reads two integers,  and , from STDIN.\n",
    "\n",
    "# Add logic to print two lines. The first line should contain the result of integer division,  // . The second line should contain the result of float division,  / .\n",
    "\n",
    "# No rounding or formatting is necessary.\n",
    "\n",
    "a, b = int(input()), int(input())\n",
    "print((a//b), (a/b), sep='\\n')"
   ]
  },
  {
   "cell_type": "code",
   "execution_count": 12,
   "id": "e7812a8c",
   "metadata": {},
   "outputs": [
    {
     "name": "stdout",
     "output_type": "stream",
     "text": [
      "5\n",
      "0\n",
      "1\n",
      "4\n",
      "9\n",
      "16\n"
     ]
    }
   ],
   "source": [
    "# The provided code stub reads and integer,n , from STDIN. For all non-negative integers i<n, print i2\n",
    "\n",
    "# def sqr(n):\n",
    "#     if n > 0:\n",
    "#         for i in range(n):\n",
    "#             print((i*i), end='\\n')\n",
    "# sqr(int(input()))\n",
    "\n",
    "for i in range(int(input())): print(i ** 2)\n"
   ]
  },
  {
   "cell_type": "code",
   "execution_count": null,
   "id": "e1392378",
   "metadata": {},
   "outputs": [],
   "source": []
  }
 ],
 "metadata": {
  "kernelspec": {
   "display_name": "Python 3 (ipykernel)",
   "language": "python",
   "name": "python3"
  },
  "language_info": {
   "codemirror_mode": {
    "name": "ipython",
    "version": 3
   },
   "file_extension": ".py",
   "mimetype": "text/x-python",
   "name": "python",
   "nbconvert_exporter": "python",
   "pygments_lexer": "ipython3",
   "version": "3.8.10"
  }
 },
 "nbformat": 4,
 "nbformat_minor": 5
}
