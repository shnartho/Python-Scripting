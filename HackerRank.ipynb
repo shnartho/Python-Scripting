{
 "cells": [
  {
   "cell_type": "markdown",
   "id": "079a7735",
   "metadata": {},
   "source": [
    "# Hacker_Rank\n"
   ]
  },
  {
   "cell_type": "code",
   "execution_count": 1,
   "id": "b157d5d2",
   "metadata": {},
   "outputs": [
    {
     "name": "stdout",
     "output_type": "stream",
     "text": [
      "Hello, World!\n"
     ]
    }
   ],
   "source": [
    "# Say \"Hello, World!\" With Python\n",
    "\n",
    "print(\"Hello, World!\")"
   ]
  },
  {
   "cell_type": "code",
   "execution_count": 2,
   "id": "40919d52",
   "metadata": {},
   "outputs": [
    {
     "name": "stdout",
     "output_type": "stream",
     "text": [
      "11\n",
      "Weird\n"
     ]
    }
   ],
   "source": [
    "# Task\n",
    "# Given an integer, , perform the following conditional actions:\n",
    "\n",
    "# If n is odd, print Weird\n",
    "# If n is even and in the inclusive range of 2 to 5, print Not Weird\n",
    "# If n is even and in the inclusive range of 6 to 20, print Weird\n",
    "# If n is even and greater than 20, print Not Weird\n",
    "\n",
    "def weird(n):\n",
    "    if n % 2 == 1 or 6<= n <=20:\n",
    "        print(\"Weird\")\n",
    "    else:\n",
    "        print(\"Not Weird\")\n",
    "    \n",
    "    \n",
    "weird(int(input()))    "
   ]
  },
  {
   "cell_type": "code",
   "execution_count": 3,
   "id": "ea4c717d",
   "metadata": {},
   "outputs": [
    {
     "name": "stdout",
     "output_type": "stream",
     "text": [
      "5\n",
      "4\n",
      "9\n",
      "1\n",
      "20\n"
     ]
    }
   ],
   "source": [
    "# Task\n",
    "# The provided code stub reads two integers from STDIN,  and . Add code to print three lines where:\n",
    "\n",
    "# The first line contains the sum of the two numbers.\n",
    "# The second line contains the difference of the two numbers (first - second).\n",
    "# The third line contains the product of the two numbers.\n",
    "\n",
    "n1, n2 = int(input()), int(input())\n",
    "print((n1+n2), (n1-n2), (n1*n2), sep='\\n')"
   ]
  },
  {
   "cell_type": "code",
   "execution_count": 4,
   "id": "fdac387e",
   "metadata": {},
   "outputs": [
    {
     "name": "stdout",
     "output_type": "stream",
     "text": [
      "3\n",
      "5\n",
      "0\n",
      "0.6\n"
     ]
    }
   ],
   "source": [
    "# Task\n",
    "# The provided code stub reads two integers,  and , from STDIN.\n",
    "\n",
    "# Add logic to print two lines. The first line should contain the result of integer division,  // . The second line should contain the result of float division,  / .\n",
    "\n",
    "# No rounding or formatting is necessary.\n",
    "\n",
    "a, b = int(input()), int(input())\n",
    "print((a//b), (a/b), sep='\\n')"
   ]
  },
  {
   "cell_type": "code",
   "execution_count": 12,
   "id": "09c19137",
   "metadata": {},
   "outputs": [
    {
     "name": "stdout",
     "output_type": "stream",
     "text": [
      "5\n",
      "0\n",
      "1\n",
      "4\n",
      "9\n",
      "16\n"
     ]
    }
   ],
   "source": [
    "# The provided code stub reads and integer,n , from STDIN. For all non-negative integers i<n, print i2\n",
    "\n",
    "# def sqr(n):\n",
    "#     if n > 0:\n",
    "#         for i in range(n):\n",
    "#             print((i*i), end='\\n')\n",
    "# sqr(int(input()))\n",
    "\n",
    "for i in range(int(input())): print(i ** 2)\n"
   ]
  },
  {
   "cell_type": "code",
   "execution_count": 18,
   "id": "57e99166",
   "metadata": {},
   "outputs": [
    {
     "name": "stdout",
     "output_type": "stream",
     "text": [
      "1990\n",
      "False\n"
     ]
    }
   ],
   "source": [
    "# An extra day is added to the calendar almost every four years as February 29, and the day is called a leap day. It corrects the calendar for the fact that our planet takes approximately 365.25 days to orbit the sun. A leap year contains a leap day.\n",
    "\n",
    "# In the Gregorian calendar, three conditions are used to identify leap years:\n",
    "\n",
    "# The year can be evenly divided by 4, is a leap year, unless:\n",
    "# The year can be evenly divided by 100, it is NOT a leap year, unless:\n",
    "# The year is also evenly divisible by 400. Then it is a leap year.\n",
    "# This means that in the Gregorian calendar, the years 2000 and 2400 are leap years, while 1800, 1900, 2100, 2200, 2300 and 2500 are NOT leap years. Source\n",
    "\n",
    "# Task\n",
    "\n",
    "\n",
    "# Given a year, determine whether it is a leap year. If it is a leap year, return the Boolean True, otherwise return False.\n",
    "\n",
    "# Note that the code stub provided reads from STDIN and passes arguments to the is_leap function. It is only necessary to complete the is_leap function.\n",
    "\n",
    "\n",
    "def is_leap(y):\n",
    "    return y % 4 == 0 and (y % 100 != 0 or y % 400 == 0)\n",
    "is_leap(int(input()))\n",
    "\n",
    "# def is_leap(year):\n",
    "#     leap = False\n",
    "    \n",
    "#     if year % 4 == 0 and (year%100!=0 or year%400==0):\n",
    "#         leap = True\n",
    "    \n",
    "#     return leap\n",
    "\n",
    "# year = int(input())\n",
    "# print(is_leap(year))"
   ]
  },
  {
   "cell_type": "code",
   "execution_count": 19,
   "id": "2a3b3843",
   "metadata": {},
   "outputs": [
    {
     "name": "stdout",
     "output_type": "stream",
     "text": [
      "5\n",
      "12345"
     ]
    }
   ],
   "source": [
    "# The included code stub will read an integer, , from STDIN.\n",
    "\n",
    "# Without using any string methods, try to print the following:\n",
    "# 123...n\n",
    "\n",
    "# Note that \"\" represents the consecutive values in between.\n",
    "\n",
    "# Example\n",
    "# n=5\n",
    "\n",
    "# Print the string 12345.\n",
    "for i in range(1, int(input()) + 1):\n",
    "    print(i, end='')"
   ]
  },
  {
   "cell_type": "markdown",
   "id": "cb50716f",
   "metadata": {},
   "source": [
    "# Big Data types"
   ]
  },
  {
   "cell_type": "code",
   "execution_count": 24,
   "id": "b907e5bf",
   "metadata": {},
   "outputs": [
    {
     "name": "stdout",
     "output_type": "stream",
     "text": [
      "1\n",
      "2\n",
      "3\n",
      "4\n",
      "[[0, 0, 0], [0, 0, 1], [0, 0, 2], [0, 0, 3], [0, 1, 0], [0, 1, 1], [0, 1, 2], [0, 2, 0], [0, 2, 1], [0, 2, 3], [1, 0, 0], [1, 0, 1], [1, 0, 2], [1, 1, 0], [1, 1, 1], [1, 1, 3], [1, 2, 0], [1, 2, 2], [1, 2, 3]]\n"
     ]
    }
   ],
   "source": [
    "# Let's learn about list comprehensions! You are given three integers  \n",
    "# and  representing the dimensions of a cuboid along with an integer . Print\n",
    "# a list of all possible coordinates given by  on a 3D grid where the sum of  \n",
    "# is not equal to . Here, 0 <= i <= x; 0<=j<= y; 0<= k<=z . Please use list comprehensions rather than multiple \n",
    "# loops, as a learning exercise.\n",
    "\n",
    "# Example\n",
    "\n",
    "\n",
    "\n",
    "\n",
    "# All permutations of  are:\n",
    "# .\n",
    "\n",
    "# Print an array of the elements that do not sum to .\n",
    "x, y, z, n = [int(input()) for _ in range(4)]\n",
    "permutations = [ [i,j,k] for i in range(x+1) for j in range(y+1) for k in range(z+1) if i+j+k != n ]\n",
    "print(permutations)\n",
    "\n"
   ]
  },
  {
   "cell_type": "code",
   "execution_count": 25,
   "id": "0c070817",
   "metadata": {},
   "outputs": [
    {
     "name": "stdout",
     "output_type": "stream",
     "text": [
      "5\n",
      "2 3 5 6 6\n",
      "6\n"
     ]
    }
   ],
   "source": [
    "# Given the participants' score sheet for your University Sports Day, you are required to find the runner-up score. You are given  scores. Store them in a list and find the score of the runner-up.\n",
    "\n",
    "# Input Format\n",
    "\n",
    "# The first line contains . The second line contains an array   of  integers each separated by a space.\n",
    "# Problem: https://www.hackerrank.com/challenges/find-second-maximum-number-in-a-list/problem\n",
    "\n",
    "n = int(input())\n",
    "arr = list(map(int, input().split()))\n",
    "print(max([x for x in arr if x != max(arr)]))"
   ]
  },
  {
   "cell_type": "code",
   "execution_count": 31,
   "id": "588be235",
   "metadata": {},
   "outputs": [
    {
     "name": "stdout",
     "output_type": "stream",
     "text": [
      "2\n",
      "s\n",
      "54\n",
      "g\n",
      "4\n",
      "[['s', 1.0], ['f', 2.0], ['s', 54.0], ['g', 4.0]]\n"
     ]
    }
   ],
   "source": [
    "# Given the names and grades for each student in a class of  students, store them in a nested list and print the name(s) of any student(s) having the second lowest grade.\n",
    "\n",
    "# Note: If there are multiple students with the second lowest grade, order their names alphabetically and print each name on a new line.\n",
    "\n",
    "# Example\n",
    "#records = [[chi, 20.0], [beta, 50.0], [alpha, 50.0]]\n",
    "\n",
    "# The ordered list of scores is , so the second lowest score is . There are two students with that score: . Ordered alphabetically, the names are printed as:\n",
    "\n",
    "classList = \n",
    "for _ in range(int(input())):\n",
    "    classList.append([str(input()), float(input())])\n",
    "print(classList)\n"
   ]
  },
  {
   "cell_type": "code",
   "execution_count": null,
   "id": "f051a1d8",
   "metadata": {},
   "outputs": [],
   "source": []
  }
 ],
 "metadata": {
  "kernelspec": {
   "display_name": "Python 3 (ipykernel)",
   "language": "python",
   "name": "python3"
  },
  "language_info": {
   "codemirror_mode": {
    "name": "ipython",
    "version": 3
   },
   "file_extension": ".py",
   "mimetype": "text/x-python",
   "name": "python",
   "nbconvert_exporter": "python",
   "pygments_lexer": "ipython3",
   "version": "3.8.10"
  }
 },
 "nbformat": 4,
 "nbformat_minor": 5
}
