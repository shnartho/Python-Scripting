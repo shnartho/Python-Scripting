{
 "cells": [
  {
   "cell_type": "code",
   "execution_count": 5,
   "id": "223a4f7d",
   "metadata": {},
   "outputs": [
    {
     "name": "stdout",
     "output_type": "stream",
     "text": [
      "Enter a number 10\n",
      "Entered value is 10\n"
     ]
    }
   ],
   "source": [
    "try:\n",
    "    s = input(\"Enter a number \")\n",
    "    i = int(s.strip())\n",
    "except ValueError:\n",
    "    print(\"Could not convert data to an integer.\")\n",
    "else:\n",
    "    print(\"Entered value is {}\".format(i))"
   ]
  },
  {
   "cell_type": "code",
   "execution_count": 12,
   "id": "15d10c4e",
   "metadata": {},
   "outputs": [
    {
     "name": "stdout",
     "output_type": "stream",
     "text": [
      "Enter a number-15\n"
     ]
    },
    {
     "ename": "ValueError",
     "evalue": "\"i\" should be nonnegative",
     "output_type": "error",
     "traceback": [
      "\u001b[0;31m---------------------------------------------------------------------------\u001b[0m",
      "\u001b[0;31mValueError\u001b[0m                                Traceback (most recent call last)",
      "Input \u001b[0;32mIn [12]\u001b[0m, in \u001b[0;36m<cell line: 3>\u001b[0;34m()\u001b[0m\n\u001b[1;32m      2\u001b[0m i \u001b[38;5;241m=\u001b[39m \u001b[38;5;28mint\u001b[39m(s\u001b[38;5;241m.\u001b[39mstrip())\n\u001b[1;32m      3\u001b[0m \u001b[38;5;28;01mif\u001b[39;00m i \u001b[38;5;241m<\u001b[39m\u001b[38;5;241m=\u001b[39m \u001b[38;5;241m0\u001b[39m:\n\u001b[0;32m----> 4\u001b[0m     \u001b[38;5;28;01mraise\u001b[39;00m \u001b[38;5;167;01mValueError\u001b[39;00m(\u001b[38;5;124m'\u001b[39m\u001b[38;5;124m\"\u001b[39m\u001b[38;5;124mi\u001b[39m\u001b[38;5;124m\"\u001b[39m\u001b[38;5;124m should be nonnegative\u001b[39m\u001b[38;5;124m'\u001b[39m)\n",
      "\u001b[0;31mValueError\u001b[0m: \"i\" should be nonnegative"
     ]
    }
   ],
   "source": [
    "s = input(\"Enter a number\")\n",
    "i = int(s.strip())\n",
    "if i <= 0:\n",
    "    raise ValueError('\"i\" should be nonnegative')"
   ]
  },
  {
   "cell_type": "code",
   "execution_count": 16,
   "id": "e9368b31",
   "metadata": {},
   "outputs": [
    {
     "name": "stdout",
     "output_type": "stream",
     "text": [
      "<re.Match object; span=(0, 1), match='a'>\n",
      "a\n",
      "<re.Match object; span=(3, 7), match='abbb'>\n",
      "abbb\n",
      "<re.Match object; span=(8, 10), match='ab'>\n",
      "ab\n"
     ]
    }
   ],
   "source": [
    "import re\n",
    "p = re.compile(\"ab*\")\n",
    "iter = p.finditer(\"ac abbb abc d\")\n",
    "for match in iter:\n",
    "    print(match)\n",
    "    print(match.group())"
   ]
  },
  {
   "cell_type": "code",
   "execution_count": null,
   "id": "1a85b967",
   "metadata": {},
   "outputs": [],
   "source": []
  }
 ],
 "metadata": {
  "kernelspec": {
   "display_name": "Python 3 (ipykernel)",
   "language": "python",
   "name": "python3"
  },
  "language_info": {
   "codemirror_mode": {
    "name": "ipython",
    "version": 3
   },
   "file_extension": ".py",
   "mimetype": "text/x-python",
   "name": "python",
   "nbconvert_exporter": "python",
   "pygments_lexer": "ipython3",
   "version": "3.8.10"
  }
 },
 "nbformat": 4,
 "nbformat_minor": 5
}
