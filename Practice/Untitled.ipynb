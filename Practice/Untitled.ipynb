{
 "cells": [
  {
   "cell_type": "code",
   "execution_count": 5,
   "id": "f0c5d21b",
   "metadata": {},
   "outputs": [
    {
     "name": "stdout",
     "output_type": "stream",
     "text": [
      "['Andrew', 'Programming', 'computer']\n",
      "['Andrew', 'computer', 'Programming']\n",
      "['computer', 'Programming', 'Andrew']\n"
     ]
    }
   ],
   "source": [
    "a = [\"Andrew\", \"computer\", \"Programming\"]\n",
    "a.sort()\n",
    "print(a)\n",
    "a.sort(key=str.lower)\n",
    "print(a)\n",
    "a.sort(reverse=True)\n",
    "print(a)"
   ]
  },
  {
   "cell_type": "code",
   "execution_count": 9,
   "id": "b6cb3944",
   "metadata": {},
   "outputs": [
    {
     "name": "stdout",
     "output_type": "stream",
     "text": [
      "['Andrew', 'Programming', 'computer']\n",
      "['Andrew', 'computer', 'Programming']\n",
      "['Andrew', 'Programming', 'computer']\n"
     ]
    }
   ],
   "source": [
    "a = [\"Andrew\", \"computer\", \"Programming\"]\n",
    "result1 = sorted(a)\n",
    "print(result1)\n",
    "result2 = sorted(a, key=str.lower)\n",
    "print(result2)\n",
    "result3 = sorted([\"Andrew\", \"computer\", \"Programming\"])\n",
    "print(result3)"
   ]
  },
  {
   "cell_type": "code",
   "execution_count": null,
   "id": "6a0a6a7c",
   "metadata": {},
   "outputs": [],
   "source": []
  }
 ],
 "metadata": {
  "kernelspec": {
   "display_name": "Python 3 (ipykernel)",
   "language": "python",
   "name": "python3"
  },
  "language_info": {
   "codemirror_mode": {
    "name": "ipython",
    "version": 3
   },
   "file_extension": ".py",
   "mimetype": "text/x-python",
   "name": "python",
   "nbconvert_exporter": "python",
   "pygments_lexer": "ipython3",
   "version": "3.8.10"
  }
 },
 "nbformat": 4,
 "nbformat_minor": 5
}
