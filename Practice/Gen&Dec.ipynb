{
 "cells": [
  {
   "cell_type": "code",
   "execution_count": 6,
   "id": "1dba233e",
   "metadata": {},
   "outputs": [
    {
     "name": "stdout",
     "output_type": "stream",
     "text": [
      "Destructed funtion auto called\n"
     ]
    }
   ],
   "source": [
    "class person:\n",
    "    def __init__(self, x, y):\n",
    "        self.x = x\n",
    "        self.y = y\n",
    "    def __del__(self):\n",
    "        print(\"Destructed funtion auto called\")\n",
    "p = person(\"Nayem\", 14)\n"
   ]
  },
  {
   "cell_type": "code",
   "execution_count": 25,
   "id": "b4e128c4",
   "metadata": {},
   "outputs": [
    {
     "name": "stdout",
     "output_type": "stream",
     "text": [
      "Welcome \n"
     ]
    },
    {
     "data": {
      "text/plain": [
       "'hello your name is Nayem'"
      ]
     },
     "execution_count": 25,
     "metadata": {},
     "output_type": "execute_result"
    }
   ],
   "source": [
    "def decorating(function):\n",
    "    def wrapper(*args, **kwargs):\n",
    "        return_value = function(*args, **kwargs)\n",
    "        print(f\"Welcome \")\n",
    "        return return_value\n",
    "    return wrapper\n",
    "    \n",
    "@decorating\n",
    "def hello(person):\n",
    "    return f\"hello your name is {person}\"\n",
    "hello(\"Nayem\")"
   ]
  },
  {
   "cell_type": "code",
   "execution_count": 33,
   "id": "6ab814de",
   "metadata": {},
   "outputs": [
    {
     "name": "stdout",
     "output_type": "stream",
     "text": [
      "5\n",
      "25\n",
      "125\n",
      "625\n"
     ]
    }
   ],
   "source": [
    "#generator in python\n",
    "def genFuc():\n",
    "    newVal = 5\n",
    "    while True:\n",
    "        yield newVal\n",
    "        newVal = newVal*5\n",
    "val = genFuc()        \n",
    "print(next(val))\n",
    "print(next(val))\n",
    "print(next(val))\n",
    "print(next(val))"
   ]
  },
  {
   "cell_type": "code",
   "execution_count": 35,
   "id": "81f5ddf2",
   "metadata": {},
   "outputs": [
    {
     "name": "stdout",
     "output_type": "stream",
     "text": [
      "0\n",
      "5\n",
      "10\n",
      "15\n",
      "20\n",
      "25\n"
     ]
    }
   ],
   "source": [
    "# reduce size using generator \n",
    "\n",
    "def newGen(x):\n",
    "    for i in range(x):\n",
    "        yield i*5\n",
    "genVal = newGen(6)\n",
    "for i in genVal:\n",
    "    print(i)\n"
   ]
  },
  {
   "cell_type": "code",
   "execution_count": 39,
   "id": "6ea94711",
   "metadata": {},
   "outputs": [
    {
     "name": "stdout",
     "output_type": "stream",
     "text": [
      "What is your class type?Student\n",
      "I am a Student\n"
     ]
    }
   ],
   "source": [
    "# take input what type of object user want to create\n",
    "\n",
    "class Teacher():\n",
    "    def __init__(self):\n",
    "        self.name = \"Basic Teacher name\"\n",
    "    def person_method(self):\n",
    "        print(\"I am a Teacher\")\n",
    "        \n",
    "class Student():\n",
    "    def __init__(self):\n",
    "        self.name = \"Basic Student name\"\n",
    "    def person_method(self):\n",
    "        print(\"I am a Student\")\n",
    "class personGen:\n",
    "    @staticmethod\n",
    "    def build_person(person_type):\n",
    "        if person_type == \"Student\":\n",
    "            return Student()\n",
    "        if person_type == \"Teacher\":\n",
    "            return Teacher()\n",
    "        print(\"Invalid type\")\n",
    "        return -1\n",
    "if __name__ == \"__main__\":\n",
    "    choice = input(\"What is your class type?\")\n",
    "    person = personGen.build_person(choice)\n",
    "    person.person_method()\n",
    "    "
   ]
  },
  {
   "cell_type": "code",
   "execution_count": null,
   "id": "bdb79478",
   "metadata": {},
   "outputs": [],
   "source": []
  }
 ],
 "metadata": {
  "kernelspec": {
   "display_name": "Python 3 (ipykernel)",
   "language": "python",
   "name": "python3"
  },
  "language_info": {
   "codemirror_mode": {
    "name": "ipython",
    "version": 3
   },
   "file_extension": ".py",
   "mimetype": "text/x-python",
   "name": "python",
   "nbconvert_exporter": "python",
   "pygments_lexer": "ipython3",
   "version": "3.8.10"
  }
 },
 "nbformat": 4,
 "nbformat_minor": 5
}
