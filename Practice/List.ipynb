{
 "cells": [
  {
   "cell_type": "code",
   "execution_count": 27,
   "id": "57c7e446",
   "metadata": {},
   "outputs": [
    {
     "name": "stdout",
     "output_type": "stream",
     "text": [
      "['banana', 'cherry', 'apple']\n",
      "Yes\n",
      "3\n",
      "['banana', 'cherry', 'apple', 'lemon']\n",
      "['naspati', 'banana', 'cherry', 'apple', 'lemon']\n",
      "lemon\n",
      "['banana', 'cherry', 'apple']\n",
      "['apple', 'cherry', 'banana']\n",
      "[]\n",
      "[4, 3, 7, 1, 9, 2, 8]\n",
      "[1, 2, 3, 4, 7, 8, 9]\n",
      "[2, 3, 4]\n",
      "[9, 8, 7, 4, 3, 2, 1]\n",
      "[1, 2, 3, 4, 7, 8, 9]\n",
      "[1, 2, 3, 4, 5, 6]\n",
      "[1, 4, 9, 16, 25, 36]\n"
     ]
    }
   ],
   "source": [
    "mylist = [\"banana\", \"cherry\", \"apple\"]\n",
    "print(mylist)\n",
    "if \"banana\" in mylist:\n",
    "          print(\"Yes\")\n",
    "else:\n",
    "          print(\"No\")\n",
    "print(len(mylist))\n",
    "mylist.append(\"lemon\")\n",
    "print(mylist)\n",
    "mylist.insert(0, \"naspati\")\n",
    "print(mylist)\n",
    "\n",
    "#take out item\n",
    "item = mylist.pop()\n",
    "mylist.remove(\"naspati\")\n",
    "print(item)\n",
    "print(mylist)\n",
    "\n",
    "mylist.reverse()\n",
    "print(mylist)\n",
    "\n",
    "#remove all items\n",
    "mylist.clear()\n",
    "print(mylist)\n",
    "\n",
    "#number list\n",
    "numberList = [4, 3, 7, 1, 9, 2, 8]\n",
    "print(numberList)\n",
    "numberList.sort()\n",
    "print(numberList)\n",
    "newlist = numberList[1:4]\n",
    "print(newlist)\n",
    "reverseList = numberList[::-1]\n",
    "print(reverseList)\n",
    "\n",
    "# make duplicate of a list\n",
    "\n",
    "listCopy = numberList.copy()\n",
    "print(listCopy)\n",
    "\n",
    "\n",
    "#list comprehension\n",
    "#sqare of numbers in list\n",
    "\n",
    "c = [1,2,3,4,5,6]\n",
    "d =  [i*i for i in c]\n",
    "print(c)\n",
    "print(d)\n",
    "\n",
    "\n",
    "\n"
   ]
  },
  {
   "cell_type": "code",
   "execution_count": null,
   "id": "15f9cb3c",
   "metadata": {},
   "outputs": [],
   "source": []
  }
 ],
 "metadata": {
  "kernelspec": {
   "display_name": "Python 3 (ipykernel)",
   "language": "python",
   "name": "python3"
  },
  "language_info": {
   "codemirror_mode": {
    "name": "ipython",
    "version": 3
   },
   "file_extension": ".py",
   "mimetype": "text/x-python",
   "name": "python",
   "nbconvert_exporter": "python",
   "pygments_lexer": "ipython3",
   "version": "3.8.10"
  }
 },
 "nbformat": 4,
 "nbformat_minor": 5
}
