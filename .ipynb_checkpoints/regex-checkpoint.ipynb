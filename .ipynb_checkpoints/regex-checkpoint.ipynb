{
 "cells": [
  {
   "cell_type": "code",
   "execution_count": 1,
   "id": "a1585241",
   "metadata": {},
   "outputs": [
    {
     "name": "stdout",
     "output_type": "stream",
     "text": [
      "3\n",
      "\"first=abc; second=def; third=ghi\"\n",
      "\"sessionid=12344556; username=john; loggedin=True\"\n",
      "\"sessionid= 12344556; username= john; loggedin= True;\"\n",
      "['False', 'False', 'False']\n"
     ]
    }
   ],
   "source": [
    "import re\n",
    "\n",
    "regularExpression = \"^\\w+=[^;]*(?:;\\s*\\w+=[^;]*)*$\"\n",
    "pattern = re.compile(regularExpression)\n",
    "\n",
    "query = int(input())\n",
    "result = ['False'] * query\n",
    "\n",
    "for i in range(query):\n",
    "    someString = input()\n",
    "    \n",
    "    if pattern.match(someString):\n",
    "        result[i] = 'True'\n",
    "print(result)\n",
    "# with open(environ['OUTPUT_PATH'], 'w') as fileOut:\n",
    "#     fileOut.write('\\n'.join(result))"
   ]
  },
  {
   "cell_type": "code",
   "execution_count": 14,
   "id": "4ca9fde5",
   "metadata": {},
   "outputs": [
    {
     "name": "stdout",
     "output_type": "stream",
     "text": [
      "3\n",
      "\"first=abc; second=def; third=ghi\"\n",
      "\"sessionid=12344556; username=john; loggedin=True\"\n",
      "\"sessionid= 12344556; username= john; loggedin= True;\"\n",
      "['True', 'True', 'False']\n"
     ]
    }
   ],
   "source": [
    "import re\n",
    "\n",
    "regularExpression = \"^[a-zA-Z]+=[^;]*(?:;\\s*\\w+=[^;]*)*$\"\n",
    "pattern = re.compile(regularExpression)\n",
    "\n",
    "query = int(input())\n",
    "result = ['False'] * query\n",
    "\n",
    "for i in range(query):\n",
    "    someString = input().replace('\"', \"\")\n",
    "    \n",
    "    if pattern.match(someString):\n",
    "        result[i] = 'True'\n",
    "print(result)\n",
    "# with open(environ['OUTPUT_PATH'], 'w') as fileOut:\n",
    "#     fileOut.write('\\n'.join(result))"
   ]
  },
  {
   "cell_type": "code",
   "execution_count": 15,
   "id": "2ff955cf",
   "metadata": {},
   "outputs": [
    {
     "ename": "NameError",
     "evalue": "name 'os' is not defined",
     "output_type": "error",
     "traceback": [
      "\u001b[0;31m---------------------------------------------------------------------------\u001b[0m",
      "\u001b[0;31mNameError\u001b[0m                                 Traceback (most recent call last)",
      "Input \u001b[0;32mIn [15]\u001b[0m, in \u001b[0;36m<cell line: 28>\u001b[0;34m()\u001b[0m\n\u001b[1;32m     25\u001b[0m     \u001b[38;5;28;01mreturn\u001b[39;00m \u001b[38;5;28msorted\u001b[39m(result)\n\u001b[1;32m     28\u001b[0m \u001b[38;5;28;01mif\u001b[39;00m \u001b[38;5;18m__name__\u001b[39m \u001b[38;5;241m==\u001b[39m \u001b[38;5;124m'\u001b[39m\u001b[38;5;124m__main__\u001b[39m\u001b[38;5;124m'\u001b[39m:\n\u001b[0;32m---> 29\u001b[0m     fptr \u001b[38;5;241m=\u001b[39m \u001b[38;5;28mopen\u001b[39m(\u001b[43mos\u001b[49m\u001b[38;5;241m.\u001b[39menviron[\u001b[38;5;124m'\u001b[39m\u001b[38;5;124mOUTPUT_PATH\u001b[39m\u001b[38;5;124m'\u001b[39m], \u001b[38;5;124m'\u001b[39m\u001b[38;5;124mw\u001b[39m\u001b[38;5;124m'\u001b[39m)\n\u001b[1;32m     31\u001b[0m     logs_count \u001b[38;5;241m=\u001b[39m \u001b[38;5;28mint\u001b[39m(\u001b[38;5;28minput\u001b[39m()\u001b[38;5;241m.\u001b[39mstrip())\n\u001b[1;32m     33\u001b[0m     logs \u001b[38;5;241m=\u001b[39m []\n",
      "\u001b[0;31mNameError\u001b[0m: name 'os' is not defined"
     ]
    }
   ],
   "source": [
    "import collections\n",
    "\n",
    "def processLogs(logs, threshold):\n",
    "    hashTable, result = collections.defaultdict(int), set()\n",
    "    for line in logs:\n",
    "        try:\n",
    "            value1, value2, extra = line.split()\n",
    "        except:\n",
    "            value1 = line\n",
    "            value2 = ''\n",
    "        if value2 != '':\n",
    "            if value1 != value2:\n",
    "                hashTable[value2] += 1\n",
    "            hashTable[value1] += 1\n",
    "            if hashTable[value1] >= threshold:\n",
    "                result.add(value1)\n",
    "            if hashTable[value2] >= threshold:\n",
    "                result.add(value2)\n",
    "        else:\n",
    "            #if input has 1 value in each line\n",
    "            \n",
    "            new_list = [item for item, count in collections.Counter(logs).items() if count > 1]\n",
    "            result = set(new_list)\n",
    "            \n",
    "    return sorted(result)\n",
    "         \n",
    "        \n",
    "if __name__ == '__main__':\n",
    "    fptr = open(os.environ['OUTPUT_PATH'], 'w')\n",
    "\n",
    "    logs_count = int(input().strip())\n",
    "\n",
    "    logs = []\n",
    "\n",
    "    for _ in range(logs_count):\n",
    "        logs_item = input()\n",
    "        logs.append(logs_item)\n",
    "\n",
    "    threshold = int(input().strip())\n",
    "\n",
    "    result = processLogs(logs, threshold)\n",
    "\n",
    "    fptr.write('\\n'.join(result))\n",
    "    fptr.write('\\n')\n",
    "\n",
    "    fptr.close()"
   ]
  },
  {
   "cell_type": "code",
   "execution_count": null,
   "id": "fcb0064f",
   "metadata": {},
   "outputs": [],
   "source": []
  }
 ],
 "metadata": {
  "kernelspec": {
   "display_name": "Python 3 (ipykernel)",
   "language": "python",
   "name": "python3"
  },
  "language_info": {
   "codemirror_mode": {
    "name": "ipython",
    "version": 3
   },
   "file_extension": ".py",
   "mimetype": "text/x-python",
   "name": "python",
   "nbconvert_exporter": "python",
   "pygments_lexer": "ipython3",
   "version": "3.8.10"
  }
 },
 "nbformat": 4,
 "nbformat_minor": 5
}
