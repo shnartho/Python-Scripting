{
 "cells": [
  {
   "cell_type": "markdown",
   "id": "7eddf331",
   "metadata": {},
   "source": [
    "# Genenrators and Iterators"
   ]
  },
  {
   "cell_type": "code",
   "execution_count": 7,
   "id": "a0faa6aa",
   "metadata": {},
   "outputs": [
    {
     "name": "stdout",
     "output_type": "stream",
     "text": [
      "baseball\n",
      "cricket\n",
      "football\n",
      "hockey\n",
      "basketball\n"
     ]
    }
   ],
   "source": [
    "sports = ['baseball', 'cricket', 'football', 'hockey', 'basketball']\n",
    "my_iterators = iter(sports)\n",
    "\n",
    "print(next(my_iterators))\n",
    "print(next(my_iterators))\n",
    "\n",
    "for item in my_iterators:\n",
    "    print(item)\n",
    "    \n"
   ]
  },
  {
   "cell_type": "code",
   "execution_count": 8,
   "id": "41632e39",
   "metadata": {},
   "outputs": [
    {
     "name": "stdout",
     "output_type": "stream",
     "text": [
      "a\n",
      "b\n",
      "c\n",
      "d\n",
      "e\n",
      "f\n",
      "g\n",
      "h\n",
      "i\n",
      "j\n",
      "k\n",
      "l\n",
      "m\n",
      "n\n",
      "o\n",
      "p\n",
      "q\n",
      "r\n",
      "s\n",
      "t\n",
      "u\n",
      "v\n",
      "w\n",
      "x\n",
      "y\n",
      "z\n"
     ]
    }
   ],
   "source": [
    "# creating own iterator \n",
    "\n",
    "class alphabets():\n",
    "    def __iter__(self):\n",
    "        self.letters = 'abcdefghijklmnopqrstuvwxyz'\n",
    "        self.index = 0\n",
    "        return self\n",
    "    def __next__(self):\n",
    "        if self.index <= 25:\n",
    "            char = self.letters[self.index]\n",
    "            self.index += 1\n",
    "            return char\n",
    "        else: \n",
    "            raise StopIteration\n",
    "            \n",
    "for char in alphabets():\n",
    "    print(char)\n",
    "            "
   ]
  },
  {
   "cell_type": "code",
   "execution_count": 9,
   "id": "4fba1984",
   "metadata": {},
   "outputs": [
    {
     "name": "stdout",
     "output_type": "stream",
     "text": [
      "Generator Start Value: 0\n",
      "For loop x value: 0\n",
      "Generator Start Value: 1\n",
      "For loop x value: 1\n",
      "Generator Start Value: 2\n",
      "For loop x value: 2\n",
      "Generator Start Value: 3\n",
      "For loop x value: 3\n",
      "Generator Start Value: 4\n",
      "For loop x value: 4\n",
      "Generator Start Value: 5\n",
      "For loop x value: 5\n",
      "Generator Start Value: 6\n",
      "For loop x value: 6\n",
      "Generator Start Value: 7\n",
      "For loop x value: 7\n",
      "Generator Start Value: 8\n",
      "For loop x value: 8\n",
      "Generator Start Value: 9\n",
      "For loop x value: 9\n"
     ]
    }
   ],
   "source": [
    "#creating our own range function \n",
    "\n",
    "def myRange(stop, start=0, step=1):\n",
    "    while start < stop:\n",
    "        print(\"Generator Start Value: {}\".format(start))\n",
    "        yield start\n",
    "        start += step\n",
    "\n",
    "for x in myRange(10):\n",
    "    print(\"For loop x value: {}\".format(x))"
   ]
  },
  {
   "cell_type": "markdown",
   "id": "7289ca0f",
   "metadata": {},
   "source": [
    "# Decorators"
   ]
  },
  {
   "cell_type": "code",
   "execution_count": 15,
   "id": "91004366",
   "metadata": {},
   "outputs": [
    {
     "name": "stdout",
     "output_type": "stream",
     "text": [
      "decorated\n",
      "normal function\n",
      "decorated\n"
     ]
    }
   ],
   "source": [
    "# creating and applying our own decorator using the @ symbol\n",
    "\n",
    "def decorator(func):\n",
    "    def wrap():\n",
    "        print(\"decorated\")\n",
    "        func()\n",
    "        print(\"decorated\")\n",
    "    return wrap\n",
    "\n",
    "@decorator    \n",
    "def normalFunc():\n",
    "    print(\"normal function\")\n",
    "    \n",
    "normalFunc()"
   ]
  },
  {
   "cell_type": "code",
   "execution_count": 27,
   "id": "96af8998",
   "metadata": {},
   "outputs": [
    {
     "name": "stdout",
     "output_type": "stream",
     "text": [
      "No of decoration is 5\n",
      "decorator called\n",
      "Hello world!\n",
      "decorated 0 times\n",
      "decorator called\n",
      "Hello world!\n",
      "decorated 1 times\n",
      "decorator called\n",
      "Hello world!\n",
      "decorated 2 times\n",
      "decorator called\n",
      "Hello world!\n",
      "decorated 3 times\n",
      "decorator called\n",
      "Hello world!\n",
      "decorated 4 times\n"
     ]
    }
   ],
   "source": [
    "# creating a decorator that takes in parameters\n",
    "\n",
    "def how_many_times(times):\n",
    "    def wrap(func):\n",
    "        print(\"No of decoration is {}\".format(times))\n",
    "        for i in range(times):\n",
    "            print(\"decorator called\")\n",
    "            func()\n",
    "            print(\"decorated {} times\".format(i))\n",
    "    return wrap\n",
    "\n",
    "@how_many_times(5)\n",
    "def normalFunc():\n",
    "    print(\"Hello world!\")\n",
    "    "
   ]
  },
  {
   "cell_type": "code",
   "execution_count": 35,
   "id": "25dc29fa",
   "metadata": {},
   "outputs": [
    {
     "name": "stdout",
     "output_type": "stream",
     "text": [
      "Birthday celebration\n",
      "Happy birthday to Nayem, you are now 24 years old\n"
     ]
    }
   ],
   "source": [
    "# creating a decorator for a function that accepts parameters\n",
    "\n",
    "def birthday(func):\n",
    "    def wrap(name, age):\n",
    "        print(\"Birthday celebration\")\n",
    "        func(name, age+1)\n",
    "    return wrap \n",
    "        \n",
    "\n",
    "@birthday\n",
    "def celebrate(name, age):\n",
    "    print(\"Happy birthday to {}, you are now {} years old\".format(name, age))\n",
    "\n",
    "celebrate(\"Nayem\", 23)"
   ]
  },
  {
   "cell_type": "code",
   "execution_count": 37,
   "id": "8864fee3",
   "metadata": {},
   "outputs": [
    {
     "name": "stdout",
     "output_type": "stream",
     "text": [
      "What is the passwordnew2022\n",
      "Access granted, welcome {'name': 'Nayem', 'password': 'new2022'}\n"
     ]
    }
   ],
   "source": [
    "# Login system using decorator\n",
    "\n",
    "def login_decorator(func):\n",
    "    def wrap(user):\n",
    "        password = input(\"What is the password\")\n",
    "        if password == user[\"password\"]:\n",
    "            func(user)\n",
    "        else:\n",
    "            print(\"access denied\")\n",
    "    return wrap\n",
    "\n",
    "@login_decorator\n",
    "def accessFunction(user):\n",
    "    print(\"Access granted, welcome {}\".format(user))\n",
    "    \n",
    "user = { \"name\":\"Nayem\" , \"password\": \"new2022\"}\n",
    "accessFunction(user)"
   ]
  },
  {
   "cell_type": "markdown",
   "id": "3895a911",
   "metadata": {},
   "source": [
    "# Modules\n"
   ]
  },
  {
   "cell_type": "code",
   "execution_count": 40,
   "id": "eca2aec0",
   "metadata": {},
   "outputs": [
    {
     "name": "stdout",
     "output_type": "stream",
     "text": [
      "2\n",
      "3\n",
      "3.141592653589793\n"
     ]
    }
   ],
   "source": [
    "#import math module\n",
    "import math\n",
    "print(math.floor(2.5))\n",
    "print(math.ceil(2.5))\n",
    "print(math.pi)"
   ]
  },
  {
   "cell_type": "code",
   "execution_count": 42,
   "id": "eb3e1d54",
   "metadata": {},
   "outputs": [
    {
     "name": "stdout",
     "output_type": "stream",
     "text": [
      "2\n",
      "3.141592653589793\n"
     ]
    }
   ],
   "source": [
    "#import only varialbles and functions rather than an entire module\n",
    "from math import floor, pi\n",
    "print(floor(2.5))\n",
    "print(pi)"
   ]
  },
  {
   "cell_type": "code",
   "execution_count": 43,
   "id": "07465c77",
   "metadata": {},
   "outputs": [
    {
     "name": "stdout",
     "output_type": "stream",
     "text": [
      "2\n"
     ]
    }
   ],
   "source": [
    "# creating alias\n",
    "from math import floor as f\n",
    "print(f(2.5))"
   ]
  },
  {
   "cell_type": "code",
   "execution_count": 45,
   "id": "6e7aecae",
   "metadata": {},
   "outputs": [],
   "source": [
    "#using the run comand to import own module\n",
    "# %run test.py"
   ]
  },
  {
   "cell_type": "markdown",
   "id": "da33be08",
   "metadata": {},
   "source": [
    "# Understanding Algorithmics Complexity"
   ]
  },
  {
   "cell_type": "code",
   "execution_count": 46,
   "id": "2c8bf54f",
   "metadata": {},
   "outputs": [],
   "source": [
    "# creating data collections to test for time complexity\n",
    "import time \n",
    "d = {} \n",
    "for i in range(10000):\n",
    "    d[i] = 'value'\n",
    "    \n",
    "# generate fake list    \n",
    "big_list = [x for x in range(10000)] \n"
   ]
  },
  {
   "cell_type": "code",
   "execution_count": 60,
   "id": "b19ddf32",
   "metadata": {},
   "outputs": [
    {
     "name": "stdout",
     "output_type": "stream",
     "text": [
      "Found in dictionary\n",
      "Elapsed time for dictionary is 0.0004291534423828125\n",
      "found in list\n",
      "Elapsed time for list 0.000244140625\n"
     ]
    }
   ],
   "source": [
    "# retreving information and tracking time to see which is faster \n",
    "import time \n",
    "d = {} \n",
    "for i in range(10000):\n",
    "    d[i] = 'value'\n",
    "    \n",
    "# generate fake list    \n",
    "big_list = [x for x in range(10000)] \n",
    "\n",
    "start_time = time.time()  #tracking time for dictionary\n",
    "if 9999 in d:\n",
    "    print('Found in dictionary')\n",
    "end_time = time.time() - start_time\n",
    "print(\"Elapsed time for dictionary is {}\".format(end_time))\n",
    "\n",
    "start_time = time.time()\n",
    "if 9999 in big_list:\n",
    "      print('found in list')\n",
    "end_time = time.time() - start_time\n",
    "print('Elapsed time for list {}'.format(end_time))"
   ]
  },
  {
   "cell_type": "code",
   "execution_count": 72,
   "id": "ddbc1249",
   "metadata": {},
   "outputs": [
    {
     "name": "stdout",
     "output_type": "stream",
     "text": [
      "Elapsed time for Bubble Sort: 0.009462833404541016\n",
      "Elapsed time for Insertion Sort: 1.3749375343322754\n"
     ]
    }
   ],
   "source": [
    "# bubble sort vs intertion sort\n",
    "from random import randint\n",
    "def bubbleSort(aList):\n",
    "    for i in range(len(aList)):\n",
    "        switched = False\n",
    "        for j in range(len(aList)-1):\n",
    "            if aList[j] > aList[j+1]:\n",
    "                aList[j], aList[j+1] = aList[j+1], aList[j]\n",
    "                switched = True\n",
    "            if switched == False:\n",
    "                break\n",
    "\n",
    "    return aList\n",
    "        \n",
    "        \n",
    "def insertionSort(aList):\n",
    "    for i in range(1, len(aList)):\n",
    "        if aList[i] < aList[i-1]:\n",
    "            for j in range(i,0,-1):\n",
    "                if aList[j] < aList[j-1]:\n",
    "                    aList[j], aList[j-1] = aList[j-1], aList[j]\n",
    "                else:\n",
    "                    break\n",
    "    \n",
    "    return aList\n",
    "\n",
    "nums = [randint(0, 100) for x in range(5000)]\n",
    "\n",
    "start_time = time.time()  # tracking time bubble sort\n",
    "bubbleSort(nums)\n",
    "end_time = time.time() - start_time\n",
    "print('Elapsed time for Bubble Sort: {}'.format(end_time))\n",
    "\n",
    "start_time = time.time()  # tracking time insertion sort\n",
    "insertionSort(nums)\n",
    "end_time = time.time() - start_time\n",
    "print('Elapsed time for Insertion Sort: {}'.format(end_time))\n"
   ]
  },
  {
   "cell_type": "code",
   "execution_count": null,
   "id": "4b1cfded",
   "metadata": {},
   "outputs": [],
   "source": []
  }
 ],
 "metadata": {
  "kernelspec": {
   "display_name": "Python 3 (ipykernel)",
   "language": "python",
   "name": "python3"
  },
  "language_info": {
   "codemirror_mode": {
    "name": "ipython",
    "version": 3
   },
   "file_extension": ".py",
   "mimetype": "text/x-python",
   "name": "python",
   "nbconvert_exporter": "python",
   "pygments_lexer": "ipython3",
   "version": "3.8.10"
  }
 },
 "nbformat": 4,
 "nbformat_minor": 5
}
